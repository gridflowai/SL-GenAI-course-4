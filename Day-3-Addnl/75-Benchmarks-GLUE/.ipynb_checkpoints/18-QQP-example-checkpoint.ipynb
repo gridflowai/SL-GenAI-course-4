{
 "cells": [
  {
   "cell_type": "code",
   "execution_count": 7,
   "id": "2427080f-ea36-43cf-b8da-0c83c20adb20",
   "metadata": {
    "tags": []
   },
   "outputs": [],
   "source": [
    "from datasets import load_dataset\n",
    "import pandas as pd\n",
    "\n",
    "# Set display options for Pandas\n",
    "pd.set_option('display.max_colwidth', None)  # No truncation of column content\n",
    "pd.set_option('display.width', None)  # No truncation of DataFrame display width"
   ]
  },
  {
   "cell_type": "code",
   "execution_count": 2,
   "id": "4d22f092-6c21-467c-b740-c55bb7db2d3c",
   "metadata": {
    "tags": []
   },
   "outputs": [
    {
     "data": {
      "application/vnd.jupyter.widget-view+json": {
       "model_id": "5532964cd2554a7e8b316f0c4b851985",
       "version_major": 2,
       "version_minor": 0
      },
      "text/plain": [
       "train-00000-of-00001.parquet:   0%|          | 0.00/33.6M [00:00<?, ?B/s]"
      ]
     },
     "metadata": {},
     "output_type": "display_data"
    },
    {
     "data": {
      "application/vnd.jupyter.widget-view+json": {
       "model_id": "e9500379b98b4fb59affab55f82f4877",
       "version_major": 2,
       "version_minor": 0
      },
      "text/plain": [
       "validation-00000-of-00001.parquet:   0%|          | 0.00/3.73M [00:00<?, ?B/s]"
      ]
     },
     "metadata": {},
     "output_type": "display_data"
    },
    {
     "data": {
      "application/vnd.jupyter.widget-view+json": {
       "model_id": "83c6e4b355b645569b3a7bce318f9861",
       "version_major": 2,
       "version_minor": 0
      },
      "text/plain": [
       "test-00000-of-00001.parquet:   0%|          | 0.00/36.7M [00:00<?, ?B/s]"
      ]
     },
     "metadata": {},
     "output_type": "display_data"
    },
    {
     "data": {
      "application/vnd.jupyter.widget-view+json": {
       "model_id": "4a06ca49ba4044c688124dd0ee4c8733",
       "version_major": 2,
       "version_minor": 0
      },
      "text/plain": [
       "Generating train split:   0%|          | 0/363846 [00:00<?, ? examples/s]"
      ]
     },
     "metadata": {},
     "output_type": "display_data"
    },
    {
     "data": {
      "application/vnd.jupyter.widget-view+json": {
       "model_id": "564b7161d846422b83e4ac39e50c6a75",
       "version_major": 2,
       "version_minor": 0
      },
      "text/plain": [
       "Generating validation split:   0%|          | 0/40430 [00:00<?, ? examples/s]"
      ]
     },
     "metadata": {},
     "output_type": "display_data"
    },
    {
     "data": {
      "application/vnd.jupyter.widget-view+json": {
       "model_id": "b483c39998e04e9da2c0d324bb0e10c6",
       "version_major": 2,
       "version_minor": 0
      },
      "text/plain": [
       "Generating test split:   0%|          | 0/390965 [00:00<?, ? examples/s]"
      ]
     },
     "metadata": {},
     "output_type": "display_data"
    }
   ],
   "source": [
    "# Load the QQP dataset\n",
    "qqp_dataset = load_dataset(\"glue\", \"qqp\")"
   ]
  },
  {
   "cell_type": "code",
   "execution_count": 3,
   "id": "6b015735-aefa-4273-a250-2c39b523e48e",
   "metadata": {
    "tags": []
   },
   "outputs": [],
   "source": [
    "# Convert the train dataset to a Pandas DataFrame for analysis\n",
    "train_df = pd.DataFrame(qqp_dataset['train'])"
   ]
  },
  {
   "cell_type": "code",
   "execution_count": 4,
   "id": "95a9a6fa-964c-4945-a519-3cb920606da7",
   "metadata": {
    "tags": []
   },
   "outputs": [],
   "source": [
    "# Convert the train dataset to a Pandas DataFrame for analysis\n",
    "valid_df = pd.DataFrame(qqp_dataset['validation'])"
   ]
  },
  {
   "cell_type": "code",
   "execution_count": 5,
   "id": "c4459ca3-72f8-4112-998f-c1c26e3d181c",
   "metadata": {
    "tags": []
   },
   "outputs": [
    {
     "data": {
      "text/plain": [
       "((363846, 4), (40430, 4))"
      ]
     },
     "execution_count": 5,
     "metadata": {},
     "output_type": "execute_result"
    }
   ],
   "source": [
    "train_df.shape, valid_df.shape"
   ]
  },
  {
   "cell_type": "code",
   "execution_count": 8,
   "id": "8916c579-6fd8-40ff-9b58-82f593209867",
   "metadata": {
    "tags": []
   },
   "outputs": [
    {
     "data": {
      "text/html": [
       "<div>\n",
       "<style scoped>\n",
       "    .dataframe tbody tr th:only-of-type {\n",
       "        vertical-align: middle;\n",
       "    }\n",
       "\n",
       "    .dataframe tbody tr th {\n",
       "        vertical-align: top;\n",
       "    }\n",
       "\n",
       "    .dataframe thead th {\n",
       "        text-align: right;\n",
       "    }\n",
       "</style>\n",
       "<table border=\"1\" class=\"dataframe\">\n",
       "  <thead>\n",
       "    <tr style=\"text-align: right;\">\n",
       "      <th></th>\n",
       "      <th>question1</th>\n",
       "      <th>question2</th>\n",
       "      <th>label</th>\n",
       "      <th>idx</th>\n",
       "    </tr>\n",
       "  </thead>\n",
       "  <tbody>\n",
       "    <tr>\n",
       "      <th>49694</th>\n",
       "      <td>Is there any system in our governance to know that whether the law made by legislature are effective to deal the situation for which it was enacted?</td>\n",
       "      <td>Are there any effective models (theoretical or real world) that can serve as a template by which the United States can reform its health care system?</td>\n",
       "      <td>0</td>\n",
       "      <td>49694</td>\n",
       "    </tr>\n",
       "    <tr>\n",
       "      <th>218095</th>\n",
       "      <td>What are the strongest majors in terms of job prospects and what are the weakest majors at Jackson State?</td>\n",
       "      <td>What are the strongest majors in terms of job prospects and what are the weakest majors at Columbus State?</td>\n",
       "      <td>0</td>\n",
       "      <td>218095</td>\n",
       "    </tr>\n",
       "    <tr>\n",
       "      <th>103723</th>\n",
       "      <td>What career advice would you give someone interested in becoming a Market Research Analyst?</td>\n",
       "      <td>What advice can you give someone who wants to trade Currencies?</td>\n",
       "      <td>0</td>\n",
       "      <td>103723</td>\n",
       "    </tr>\n",
       "    <tr>\n",
       "      <th>11027</th>\n",
       "      <td>What is the difference between reference frame and reference point?</td>\n",
       "      <td>Is our frame of reference in space time at the speed of light?</td>\n",
       "      <td>0</td>\n",
       "      <td>11027</td>\n",
       "    </tr>\n",
       "    <tr>\n",
       "      <th>226668</th>\n",
       "      <td>How do the personalities of Harvard students compare with students at other Ivies (especially Yale, Princeton, and Brown)?</td>\n",
       "      <td>What is the typical student at a top university like Harvard, Yale and Princeton like in terms of personality, character and interests?</td>\n",
       "      <td>0</td>\n",
       "      <td>226668</td>\n",
       "    </tr>\n",
       "  </tbody>\n",
       "</table>\n",
       "</div>"
      ],
      "text/plain": [
       "                                                                                                                                                   question1  \\\n",
       "49694   Is there any system in our governance to know that whether the law made by legislature are effective to deal the situation for which it was enacted?   \n",
       "218095                                             What are the strongest majors in terms of job prospects and what are the weakest majors at Jackson State?   \n",
       "103723                                                           What career advice would you give someone interested in becoming a Market Research Analyst?   \n",
       "11027                                                                                    What is the difference between reference frame and reference point?   \n",
       "226668                            How do the personalities of Harvard students compare with students at other Ivies (especially Yale, Princeton, and Brown)?   \n",
       "\n",
       "                                                                                                                                                    question2  \\\n",
       "49694   Are there any effective models (theoretical or real world) that can serve as a template by which the United States can reform its health care system?   \n",
       "218095                                             What are the strongest majors in terms of job prospects and what are the weakest majors at Columbus State?   \n",
       "103723                                                                                        What advice can you give someone who wants to trade Currencies?   \n",
       "11027                                                                                          Is our frame of reference in space time at the speed of light?   \n",
       "226668                What is the typical student at a top university like Harvard, Yale and Princeton like in terms of personality, character and interests?   \n",
       "\n",
       "        label     idx  \n",
       "49694       0   49694  \n",
       "218095      0  218095  \n",
       "103723      0  103723  \n",
       "11027       0   11027  \n",
       "226668      0  226668  "
      ]
     },
     "execution_count": 8,
     "metadata": {},
     "output_type": "execute_result"
    }
   ],
   "source": [
    "train_df.sample(5)"
   ]
  },
  {
   "cell_type": "code",
   "execution_count": 9,
   "id": "258299c9-bf5b-4968-bf89-58f014ab3a6f",
   "metadata": {
    "tags": []
   },
   "outputs": [
    {
     "name": "stdout",
     "output_type": "stream",
     "text": [
      "Total samples in training set: 363846\n"
     ]
    }
   ],
   "source": [
    "# Total samples\n",
    "total_samples = len(train_df)\n",
    "print(f\"Total samples in training set: {total_samples}\")"
   ]
  },
  {
   "cell_type": "code",
   "execution_count": 10,
   "id": "08623e1d-eae1-4782-8a88-a581b9238a41",
   "metadata": {
    "tags": []
   },
   "outputs": [
    {
     "name": "stdout",
     "output_type": "stream",
     "text": [
      "\n",
      "Label Distribution:\n",
      "0    229468\n",
      "1    134378\n",
      "Name: label, dtype: int64\n"
     ]
    }
   ],
   "source": [
    "# Duplicate and non-duplicate labels\n",
    "label_counts = train_df['label'].value_counts()\n",
    "print(\"\\nLabel Distribution:\")\n",
    "print(label_counts)\n"
   ]
  },
  {
   "cell_type": "code",
   "execution_count": 11,
   "id": "f8921f0b-9b56-4d1c-9dbc-1cc9993084cb",
   "metadata": {
    "tags": []
   },
   "outputs": [
    {
     "name": "stdout",
     "output_type": "stream",
     "text": [
      "\n",
      "Label Percentage Distribution:\n",
      "0    63.067342\n",
      "1    36.932658\n",
      "Name: label, dtype: float64\n"
     ]
    }
   ],
   "source": [
    "# Percentage distribution of labels\n",
    "label_percentages = label_counts / total_samples * 100\n",
    "print(\"\\nLabel Percentage Distribution:\")\n",
    "print(label_percentages)"
   ]
  },
  {
   "cell_type": "code",
   "execution_count": 12,
   "id": "d62affb3-3633-4889-945b-a3f4dc332ddd",
   "metadata": {
    "tags": []
   },
   "outputs": [
    {
     "name": "stdout",
     "output_type": "stream",
     "text": [
      "\n",
      "Average Length of Question 1: 59.63\n",
      "Average Length of Question 2: 60.19\n"
     ]
    }
   ],
   "source": [
    "# Average length of questions\n",
    "train_df['question1_length'] = train_df['question1'].apply(lambda x: len(str(x)))\n",
    "train_df['question2_length'] = train_df['question2'].apply(lambda x: len(str(x)))\n",
    "\n",
    "avg_length_q1 = train_df['question1_length'].mean()\n",
    "avg_length_q2 = train_df['question2_length'].mean()\n",
    "print(f\"\\nAverage Length of Question 1: {avg_length_q1:.2f}\")\n",
    "print(f\"Average Length of Question 2: {avg_length_q2:.2f}\")"
   ]
  },
  {
   "cell_type": "code",
   "execution_count": 13,
   "id": "a608cafe-8545-4843-b3cd-0aa60d236508",
   "metadata": {
    "tags": []
   },
   "outputs": [
    {
     "name": "stdout",
     "output_type": "stream",
     "text": [
      "Correlation between Question 1 and Question 2 lengths: 0.48\n"
     ]
    }
   ],
   "source": [
    "# Correlation between question lengths\n",
    "correlation_length = train_df['question1_length'].corr(train_df['question2_length'])\n",
    "print(f\"Correlation between Question 1 and Question 2 lengths: {correlation_length:.2f}\")"
   ]
  },
  {
   "cell_type": "code",
   "execution_count": null,
   "id": "5d842407-9f94-4f55-b2d3-2b16a35f35da",
   "metadata": {},
   "outputs": [],
   "source": []
  }
 ],
 "metadata": {
  "kernelspec": {
   "display_name": "Python 3 (ipykernel)",
   "language": "python",
   "name": "python3"
  },
  "language_info": {
   "codemirror_mode": {
    "name": "ipython",
    "version": 3
   },
   "file_extension": ".py",
   "mimetype": "text/x-python",
   "name": "python",
   "nbconvert_exporter": "python",
   "pygments_lexer": "ipython3",
   "version": "3.11.3"
  }
 },
 "nbformat": 4,
 "nbformat_minor": 5
}
