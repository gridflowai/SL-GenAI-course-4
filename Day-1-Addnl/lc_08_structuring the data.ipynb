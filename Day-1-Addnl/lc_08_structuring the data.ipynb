{
 "cells": [
  {
   "cell_type": "markdown",
   "id": "4343ca18-26ef-43f7-a528-9887ec87f2dd",
   "metadata": {},
   "source": [
    "---------------------------------\n",
    "#### return structured data from a model\n",
    "---------------------------------"
   ]
  },
  {
   "cell_type": "code",
   "execution_count": 1,
   "id": "2a19eb4a-c62b-4534-9a53-1de30410699a",
   "metadata": {},
   "outputs": [],
   "source": [
    "from langchain_openai import ChatOpenAI"
   ]
  },
  {
   "cell_type": "code",
   "execution_count": 2,
   "id": "b17a0735-62dd-449e-a24c-3f0c177fa49a",
   "metadata": {},
   "outputs": [],
   "source": [
    "llm = ChatOpenAI(model=\"gpt-4o-mini\")"
   ]
  },
  {
   "cell_type": "markdown",
   "id": "c1346870-345c-45f2-89d9-a983f0dcd64d",
   "metadata": {},
   "source": [
    "#### using pydantic"
   ]
  },
  {
   "cell_type": "code",
   "execution_count": 3,
   "id": "08dafa6d-db1e-4255-9f82-d917cd7da5b8",
   "metadata": {},
   "outputs": [],
   "source": [
    "from typing import Optional\n",
    "\n",
    "from pydantic import BaseModel, Field"
   ]
  },
  {
   "cell_type": "code",
   "execution_count": 4,
   "id": "3287cebf-235c-455c-8bb2-716ac3b51b7e",
   "metadata": {},
   "outputs": [],
   "source": [
    "class Joke(BaseModel):\n",
    "    \"\"\"Joke to tell user.\"\"\"\n",
    "\n",
    "    setup:     str = Field(description=\"The setup of the joke\")\n",
    "    punchline: str = Field(description=\"The punchline to the joke\")\n",
    "    rating:    Optional[int] = Field(\n",
    "                                default    = None, \n",
    "                                description= \"How funny the joke is, from 1 to 10\"\n",
    "    )"
   ]
  },
  {
   "cell_type": "code",
   "execution_count": 5,
   "id": "319503d8-4b41-423f-94c0-068148d6942d",
   "metadata": {},
   "outputs": [],
   "source": [
    "structured_llm = llm.with_structured_output(Joke)"
   ]
  },
  {
   "cell_type": "code",
   "execution_count": 6,
   "id": "42e0add9-a44d-4256-a888-2fc66f7c1f6b",
   "metadata": {},
   "outputs": [
    {
     "data": {
      "text/plain": [
       "Joke(setup='Why was the cat sitting on the computer?', punchline='Because it wanted to keep an eye on the mouse!', rating=7)"
      ]
     },
     "execution_count": 6,
     "metadata": {},
     "output_type": "execute_result"
    }
   ],
   "source": [
    "response = structured_llm.invoke(\"Tell me a joke about cats\")\n",
    "response"
   ]
  },
  {
   "cell_type": "code",
   "execution_count": 7,
   "id": "592db888-94a5-49ea-b491-8b6477fbbeeb",
   "metadata": {},
   "outputs": [
    {
     "data": {
      "text/plain": [
       "{'setup': 'Why was the cat sitting on the computer?',\n",
       " 'punchline': 'Because it wanted to keep an eye on the mouse!',\n",
       " 'rating': 7}"
      ]
     },
     "execution_count": 7,
     "metadata": {},
     "output_type": "execute_result"
    }
   ],
   "source": [
    "dict(response)"
   ]
  },
  {
   "cell_type": "markdown",
   "id": "96e6dac7-b6fb-4ff3-b5f5-5b151ff545ea",
   "metadata": {},
   "source": [
    "Example"
   ]
  },
  {
   "cell_type": "code",
   "execution_count": 8,
   "id": "c5f81840-2b45-4875-acb8-c1ff211e1fd3",
   "metadata": {},
   "outputs": [],
   "source": [
    "from typing import List\n",
    "from pydantic import BaseModel, Field"
   ]
  },
  {
   "cell_type": "code",
   "execution_count": 9,
   "id": "ee5567dc-89d0-4b50-b5f2-dacf7a6b59c4",
   "metadata": {},
   "outputs": [],
   "source": [
    "class Recipe(BaseModel):\n",
    "    \"\"\"Recipe details.\"\"\"\n",
    "\n",
    "    title:        str       = Field(description=\"The title of the recipe\")\n",
    "    ingredients:  List[str] = Field(description=\"List of ingredients needed\")\n",
    "    cooking_time: int       = Field(description=\"Cooking time in minutes\")\n",
    "    steps:        List[str] = Field(description=\"Step-by-step instructions\")"
   ]
  },
  {
   "cell_type": "code",
   "execution_count": 10,
   "id": "50a638ca-18d2-47ef-8d7b-4aee9f2bcbae",
   "metadata": {},
   "outputs": [],
   "source": [
    "structured_llm = llm.with_structured_output(Recipe)"
   ]
  },
  {
   "cell_type": "code",
   "execution_count": 11,
   "id": "5c16ca0b-cdaf-4ed4-b5e5-2116151905de",
   "metadata": {},
   "outputs": [
    {
     "data": {
      "text/plain": [
       "{'title': 'Chocolate Chip Cookies',\n",
       " 'ingredients': ['2 1/4 cups all-purpose flour',\n",
       "  '1/2 teaspoon baking soda',\n",
       "  '1 cup unsalted butter, room temperature',\n",
       "  '1/2 cup granulated sugar',\n",
       "  '1 cup packed brown sugar',\n",
       "  '1 teaspoon salt',\n",
       "  '2 teaspoons pure vanilla extract',\n",
       "  '2 large eggs',\n",
       "  '2 cups semisweet chocolate chips',\n",
       "  '1 cup chopped nuts (optional)'],\n",
       " 'cooking_time': 15,\n",
       " 'steps': ['Preheat your oven to 350°F (175°C).',\n",
       "  'In a small bowl, stir together the flour and baking soda; set aside.',\n",
       "  'In a large bowl, using a mixer, cream together the butter, granulated sugar, brown sugar, and salt until smooth.',\n",
       "  'Beat in the vanilla extract and eggs one at a time, mixing well after each addition.',\n",
       "  'Gradually blend in the flour mixture until fully incorporated.',\n",
       "  'Stir in the chocolate chips and nuts (if using).',\n",
       "  'Drop by rounded tablespoon onto ungreased baking sheets.',\n",
       "  'Bake for 10 to 12 minutes in the preheated oven, or until edges are nicely golden.',\n",
       "  'Remove from the oven and let cool on the baking sheets for a few minutes before transferring to wire racks to cool completely.']}"
      ]
     },
     "execution_count": 11,
     "metadata": {},
     "output_type": "execute_result"
    }
   ],
   "source": [
    "dict(structured_llm.invoke(\"Give me a recipe for chocolate chip cookies.\"))"
   ]
  },
  {
   "cell_type": "markdown",
   "id": "04e7445e-de53-47bd-8db6-2a4566b57ace",
   "metadata": {},
   "source": [
    "**JSON schema**"
   ]
  },
  {
   "cell_type": "code",
   "execution_count": 12,
   "id": "1ba2dd1e-f9e0-49da-8d3f-79deb256c5b9",
   "metadata": {},
   "outputs": [],
   "source": [
    "json_schema = {\n",
    "    \"title\": \"joke\",\n",
    "    \"description\": \"Joke to tell user.\",\n",
    "    \"type\": \"object\",\n",
    "    \"properties\": {\n",
    "        \"setup\": {\n",
    "            \"type\": \"string\",\n",
    "            \"description\": \"The setup of the joke\",\n",
    "        },\n",
    "        \"punchline\": {\n",
    "            \"type\": \"string\",\n",
    "            \"description\": \"The punchline to the joke\",\n",
    "        },\n",
    "        \"rating\": {\n",
    "            \"type\": \"integer\",\n",
    "            \"description\": \"How funny the joke is, from 1 to 10\",\n",
    "            \"default\": None,\n",
    "        },\n",
    "    },\n",
    "    \"required\": [\"setup\", \"punchline\"],\n",
    "}"
   ]
  },
  {
   "cell_type": "code",
   "execution_count": 13,
   "id": "26509d01-6f25-40d3-ba05-87a50e93b292",
   "metadata": {},
   "outputs": [],
   "source": [
    "structured_llm = llm.with_structured_output(json_schema)"
   ]
  },
  {
   "cell_type": "code",
   "execution_count": 14,
   "id": "f7313a03-9646-4f46-90ce-19a72a3acb5a",
   "metadata": {},
   "outputs": [
    {
     "data": {
      "text/plain": [
       "{'setup': 'Why did the cat sit on the computer?',\n",
       " 'punchline': 'Because it wanted to keep an eye on the mouse!',\n",
       " 'rating': 8}"
      ]
     },
     "execution_count": 14,
     "metadata": {},
     "output_type": "execute_result"
    }
   ],
   "source": [
    "structured_llm.invoke(\"Tell me a joke about cats\")"
   ]
  },
  {
   "cell_type": "markdown",
   "id": "e380eec3-04f7-4847-b5aa-e314d9b38b6f",
   "metadata": {},
   "source": [
    "#### Few shot prompting"
   ]
  },
  {
   "cell_type": "code",
   "execution_count": 15,
   "id": "9b5fc15d-a892-45ef-a3a9-6803ca23f9f2",
   "metadata": {},
   "outputs": [],
   "source": [
    "from langchain_core.prompts import ChatPromptTemplate"
   ]
  },
  {
   "cell_type": "code",
   "execution_count": 16,
   "id": "1223283d-8f0b-467c-8bcd-91e407081e4b",
   "metadata": {},
   "outputs": [],
   "source": [
    "system = \"\"\"You are a hilarious comedian. Your specialty is knock-knock jokes. \\\n",
    "Return a joke which has the setup (the response to \"Who's there?\") and the final punchline (the response to \"<setup> who?\").\n",
    "\n",
    "Here are some examples of jokes:\n",
    "\n",
    "example_user: Tell me a joke about planes\n",
    "example_assistant: {{\"setup\": \"Why don't planes ever get tired?\", \"punchline\": \"Because they have rest wings!\", \"rating\": 2}}\n",
    "\n",
    "example_user: Tell me another joke about planes\n",
    "example_assistant: {{\"setup\": \"Cargo\", \"punchline\": \"Cargo 'vroom vroom', but planes go 'zoom zoom'!\", \"rating\": 10}}\n",
    "\n",
    "example_user: Now about caterpillars\n",
    "example_assistant: {{\"setup\": \"Caterpillar\", \"punchline\": \"Caterpillar really slow, but watch me turn into a butterfly and steal the show!\", \"rating\": 5}}\"\"\"\n"
   ]
  },
  {
   "cell_type": "markdown",
   "id": "ecb0a7c9-276f-4f63-89f1-2441df447126",
   "metadata": {},
   "source": [
    "#### Using Parsers with Custom Validation Logic"
   ]
  },
  {
   "cell_type": "code",
   "execution_count": 17,
   "id": "ea65b9ed-cbdd-4127-ae67-d153841ef92c",
   "metadata": {},
   "outputs": [],
   "source": [
    "from langchain_core.output_parsers import PydanticOutputParser\n",
    "from langchain_core.prompts import PromptTemplate\n",
    "\n",
    "from langchain_openai import OpenAI\n",
    "from pydantic import BaseModel, Field, model_validator"
   ]
  },
  {
   "cell_type": "code",
   "execution_count": 18,
   "id": "6b9f9152-e691-4bc6-9430-5d35fc5f1d53",
   "metadata": {},
   "outputs": [],
   "source": [
    "model = OpenAI(model_name=\"gpt-3.5-turbo-instruct\", temperature=0.0)"
   ]
  },
  {
   "cell_type": "code",
   "execution_count": 19,
   "id": "141bcdec-8890-4131-947b-99a3efa2c5ce",
   "metadata": {},
   "outputs": [],
   "source": [
    "# Define your desired data structure.\n",
    "class Joke(BaseModel):\n",
    "    setup: str     = Field(description=\"question to set up a joke\")\n",
    "    punchline: str = Field(description=\"answer to resolve the joke\")\n",
    "\n",
    "    # add custom validation logic with Pydantic.\n",
    "    @model_validator(mode=\"before\")\n",
    "    @classmethod\n",
    "    def question_ends_with_question_mark(cls, values: dict) -> dict:\n",
    "        setup = values.get(\"setup\")            # Accessing the setup Field in values\n",
    "        if setup and setup[-1] != \"?\":\n",
    "            raise ValueError(\"Badly formed question!\")\n",
    "        return values"
   ]
  },
  {
   "cell_type": "code",
   "execution_count": 20,
   "id": "63dee286-622a-48b6-9ef8-3231ae0ffc08",
   "metadata": {},
   "outputs": [],
   "source": [
    "parser = PydanticOutputParser(pydantic_object=Joke)"
   ]
  },
  {
   "cell_type": "code",
   "execution_count": 21,
   "id": "d72c314a-9fd9-4440-8959-3c4f95c65b7b",
   "metadata": {},
   "outputs": [],
   "source": [
    "prompt = PromptTemplate(\n",
    "    template         = \"Answer the user query.\\n{format_instructions}\\n{query}\\n\",\n",
    "    input_variables  = [\"query\"],\n",
    "    partial_variables= {\"format_instructions\": parser.get_format_instructions()},\n",
    ")"
   ]
  },
  {
   "cell_type": "code",
   "execution_count": 22,
   "id": "3a10473b-4043-4982-8506-96f641f389e2",
   "metadata": {},
   "outputs": [
    {
     "data": {
      "text/plain": [
       "Joke(setup='Why did the tomato turn red?', punchline='Because it saw the salad dressing!')"
      ]
     },
     "execution_count": 22,
     "metadata": {},
     "output_type": "execute_result"
    }
   ],
   "source": [
    "prompt_and_model = prompt | model\n",
    "\n",
    "output = prompt_and_model.invoke({\"query\": \"Tell me a joke.\"})\n",
    "\n",
    "parser.invoke(output)"
   ]
  },
  {
   "cell_type": "markdown",
   "id": "c00d6f71-b9c1-4186-8c30-bd64b005d6e9",
   "metadata": {},
   "source": [
    "Another example"
   ]
  },
  {
   "cell_type": "code",
   "execution_count": 23,
   "id": "29a3ae5e-3147-4de7-ab84-1ea4f036970f",
   "metadata": {},
   "outputs": [],
   "source": [
    "from typing import List\n",
    "\n",
    "from langchain_core.output_parsers import PydanticOutputParser\n",
    "from langchain_core.prompts import ChatPromptTemplate\n",
    "from pydantic import BaseModel, Field"
   ]
  },
  {
   "cell_type": "code",
   "execution_count": 24,
   "id": "27825113-20f4-42ad-b37d-64510b20567a",
   "metadata": {},
   "outputs": [],
   "source": [
    "class Person(BaseModel):\n",
    "    \"\"\"Information about a person.\"\"\"\n",
    "\n",
    "    name:             str   = Field(..., description=\"The name of the person\")\n",
    "    height_in_meters: float = Field(..., description=\"The height of the person expressed in meters.\")"
   ]
  },
  {
   "cell_type": "markdown",
   "id": "921db8d8-2cb4-4e15-a432-714765fa0c29",
   "metadata": {},
   "source": [
    "- `name` is a string field that will store the name of the person.\n",
    "- `Field(...)`: The ellipsis (...) here means this field is **required**. Pydantic will raise an error if this field is missing when creating an instance of Person.\n",
    "- `description`=\"The name of the person\": Adds a description that helps clarify what data this field represents, which can be useful for documentation or autogenerated API schemas."
   ]
  },
  {
   "cell_type": "code",
   "execution_count": 25,
   "id": "de3ce495-6cfd-43a8-b30a-92e78285e68e",
   "metadata": {},
   "outputs": [],
   "source": [
    "class People(BaseModel):\n",
    "    \"\"\"Identifying information about all people in a text.\"\"\"\n",
    "\n",
    "    people: List[Person]"
   ]
  },
  {
   "cell_type": "code",
   "execution_count": 26,
   "id": "08d334ae-c6b6-4aa1-b6cd-3ab6ace1baac",
   "metadata": {},
   "outputs": [],
   "source": [
    "# Set up a parser\n",
    "parser = PydanticOutputParser(pydantic_object=People)"
   ]
  },
  {
   "cell_type": "code",
   "execution_count": 27,
   "id": "71428205-e649-47b7-a745-734389d4f5f7",
   "metadata": {},
   "outputs": [],
   "source": [
    "# Prompt\n",
    "prompt = ChatPromptTemplate.from_messages(\n",
    "    [\n",
    "        (\n",
    "            \"system\",\n",
    "            \"Answer the user query. Wrap the output in `json` tags\\n{format_instructions}\",\n",
    "        ),\n",
    "        (\n",
    "            \"human\", \"{query}\"\n",
    "        ),\n",
    "    ]\n",
    ").partial(format_instructions = parser.get_format_instructions())"
   ]
  },
  {
   "cell_type": "code",
   "execution_count": null,
   "id": "08339532-aa25-4b0b-ae12-793280183e3b",
   "metadata": {},
   "outputs": [],
   "source": []
  },
  {
   "cell_type": "code",
   "execution_count": null,
   "id": "08716263-39e2-4408-972b-8b636f051c89",
   "metadata": {},
   "outputs": [],
   "source": []
  },
  {
   "cell_type": "code",
   "execution_count": null,
   "id": "40c8ec5f-dfc2-4855-a00e-25eb5bdd9af5",
   "metadata": {},
   "outputs": [],
   "source": []
  }
 ],
 "metadata": {
  "kernelspec": {
   "display_name": "langchain_env",
   "language": "python",
   "name": "langchain_env"
  },
  "language_info": {
   "codemirror_mode": {
    "name": "ipython",
    "version": 3
   },
   "file_extension": ".py",
   "mimetype": "text/x-python",
   "name": "python",
   "nbconvert_exporter": "python",
   "pygments_lexer": "ipython3",
   "version": "3.12.7"
  }
 },
 "nbformat": 4,
 "nbformat_minor": 5
}
