{
 "cells": [
  {
   "cell_type": "markdown",
   "id": "727db19e-753c-482f-acab-ca9876e2ecd7",
   "metadata": {},
   "source": [
    "--------------------------\n",
    "#### Dynamic Prompt Generation (jinja2)\n",
    "--------------------------\n",
    "\n",
    "- **Jinja2**: A widely used templating engine for generating dynamic outputs from static templates using placeholders.\n",
    "- **Origins**: Originally designed for creating dynamic HTML content.\n",
    "- **Applications**: Commonly applied in areas requiring dynamic text generation, such as AI prompting.\n",
    "- **Features**: Supports advanced features like inheritance, looping, and conditional logic.\n",
    "- **Use in GenAI**: Well-suited for Generative AI (GenAI) applications where prompts are crafted to guide Large Language Models (LLMs) toward specific responses.\n",
    "- **Dynamic Prompts**: Prompts can be tailored based on user inputs, previous interactions, and other variables."
   ]
  },
  {
   "cell_type": "code",
   "execution_count": 1,
   "id": "85a9b2b9-e755-4875-9c48-9487130c30a1",
   "metadata": {},
   "outputs": [],
   "source": [
    "from jinja2 import Template"
   ]
  },
  {
   "cell_type": "code",
   "execution_count": 2,
   "id": "162f4011-c921-4cc8-b191-17dd1afffc30",
   "metadata": {},
   "outputs": [],
   "source": [
    "# Define the template\n",
    "template_str = \"Hello {{ user_name }}, I see that you prefer {{ user_preference }}. How can I assist you today?\""
   ]
  },
  {
   "cell_type": "code",
   "execution_count": 3,
   "id": "9001c509-c5e1-46dd-a8c9-507a6afdfce7",
   "metadata": {},
   "outputs": [],
   "source": [
    "# Create a Jinja2 Template object\n",
    "template = Template(template_str)"
   ]
  },
  {
   "cell_type": "code",
   "execution_count": 4,
   "id": "68356cd1-adc0-4213-94b0-afb108a4684e",
   "metadata": {},
   "outputs": [
    {
     "name": "stdout",
     "output_type": "stream",
     "text": [
      "Hello Alice, I see that you prefer sports. How can I assist you today?\n"
     ]
    }
   ],
   "source": [
    "# Render the template with dynamic variables\n",
    "prompt = template.render(user_name=\"Alice\", user_preference=\"sports\")\n",
    "\n",
    "print(prompt)"
   ]
  },
  {
   "cell_type": "code",
   "execution_count": 5,
   "id": "1cd323d4-aa40-4331-938b-d97627ea563e",
   "metadata": {},
   "outputs": [],
   "source": [
    "# Define a more complex template with conditional logic\n",
    "template_str = \"\"\"\n",
    "{% if user_preference == \"sports\" %}\n",
    "    Here's the latest sports news!\n",
    "{% elif user_preference == \"technology\" %}\n",
    "    Here's the latest tech updates!\n",
    "{% else %}\n",
    "    Here's some general news for you.\n",
    "{% endif %}\n",
    "\"\"\""
   ]
  },
  {
   "cell_type": "code",
   "execution_count": 6,
   "id": "9cf1a640-4a8f-4b2e-90c8-c211b19c5c50",
   "metadata": {},
   "outputs": [],
   "source": [
    "# Create a Jinja2 Template object\n",
    "template = Template(template_str)"
   ]
  },
  {
   "cell_type": "code",
   "execution_count": 7,
   "id": "df5f3675-a1af-471f-be87-38a15a37f7f4",
   "metadata": {},
   "outputs": [
    {
     "data": {
      "text/plain": [
       "\"\\n\\n    Here's the latest tech updates!\\n\""
      ]
     },
     "execution_count": 7,
     "metadata": {},
     "output_type": "execute_result"
    }
   ],
   "source": [
    "# Render the template with dynamic variables\n",
    "prompt = template.render(user_preference=\"technology\")\n",
    "prompt"
   ]
  },
  {
   "cell_type": "markdown",
   "id": "ead68fd4-33e6-4e50-85e1-6fc3ce6f24ad",
   "metadata": {},
   "source": [
    "More examples ..."
   ]
  },
  {
   "cell_type": "code",
   "execution_count": 9,
   "id": "84230d67-48f7-466f-a351-6a67370eef72",
   "metadata": {},
   "outputs": [],
   "source": [
    "# Define the Person class\n",
    "class Person:\n",
    "    def __init__(self, name, age, hobbies):\n",
    "        self.name    = name\n",
    "        self.age     = age\n",
    "        self.hobbies = hobbies  # List of hobbies\n",
    "    \n",
    "    def get_name(self):\n",
    "        return self.name\n",
    "    \n",
    "    def get_age(self):\n",
    "        return self.age\n",
    "    \n",
    "    def get_hobbies(self):\n",
    "        return self.hobbies"
   ]
  },
  {
   "cell_type": "code",
   "execution_count": 10,
   "id": "6b62f27c-225f-4a70-8c16-24cd91da2edb",
   "metadata": {},
   "outputs": [],
   "source": [
    "# Create an instance of the Person class\n",
    "person = Person('Peter', 34, ['reading', 'cycling', 'coding'])"
   ]
  },
  {
   "cell_type": "code",
   "execution_count": 11,
   "id": "b8835a2c-054b-485b-ac5e-23c05344055e",
   "metadata": {},
   "outputs": [],
   "source": [
    "# Define a Jinja2 template\n",
    "template_str = \"\"\"\n",
    "Hello! My name is {{ person.get_name() }}.\n",
    "I am {{ person.get_age() }} years old.\n",
    "\n",
    "{% if person.get_hobbies() %}\n",
    "Here are some of my hobbies:\n",
    "<ul>\n",
    "  {% for hobby in person.get_hobbies() %}\n",
    "    <li>{{ hobby }}</li>\n",
    "  {% endfor %}\n",
    "</ul>\n",
    "{% else %}\n",
    "I don't have any hobbies to share.\n",
    "{% endif %}\n",
    "\"\"\""
   ]
  },
  {
   "cell_type": "code",
   "execution_count": 12,
   "id": "223b2510-a5c6-4f8b-b391-752798f90b24",
   "metadata": {},
   "outputs": [],
   "source": [
    "# Create the Template object\n",
    "tm = Template(template_str)"
   ]
  },
  {
   "cell_type": "code",
   "execution_count": 13,
   "id": "4add702f-4c86-40b7-95c7-9c1f504ad9fc",
   "metadata": {},
   "outputs": [],
   "source": [
    "# Render the template\n",
    "msg = tm.render(person=person)"
   ]
  },
  {
   "cell_type": "code",
   "execution_count": 14,
   "id": "97a15790-b7c1-4100-aebc-0b9b083ff4d5",
   "metadata": {},
   "outputs": [
    {
     "name": "stdout",
     "output_type": "stream",
     "text": [
      "\n",
      "Hello! My name is Peter.\n",
      "I am 34 years old.\n",
      "\n",
      "\n",
      "Here are some of my hobbies:\n",
      "<ul>\n",
      "  \n",
      "    <li>reading</li>\n",
      "  \n",
      "    <li>cycling</li>\n",
      "  \n",
      "    <li>coding</li>\n",
      "  \n",
      "</ul>\n",
      "\n"
     ]
    }
   ],
   "source": [
    "# Print the rendered message\n",
    "print(msg)"
   ]
  },
  {
   "cell_type": "markdown",
   "id": "d2fcea6f-a1bf-4ba4-b0fc-6a0c632e111f",
   "metadata": {},
   "source": [
    "Using dictionary objects"
   ]
  },
  {
   "cell_type": "code",
   "execution_count": 15,
   "id": "eb01c3c4-c66e-4ca0-a2a1-f07695ada509",
   "metadata": {},
   "outputs": [],
   "source": [
    "person = { 'name': 'Peter', 'age': 34 }"
   ]
  },
  {
   "cell_type": "code",
   "execution_count": 16,
   "id": "87868a14-5e33-4267-9e1a-4610ecf9fb9b",
   "metadata": {},
   "outputs": [],
   "source": [
    "# Create a Jinja2 template\n",
    "tm = Template(\"My name is {{ per.name }} and I am {{ per.age }}\")"
   ]
  },
  {
   "cell_type": "code",
   "execution_count": 17,
   "id": "face6131-7356-446f-ac74-0715c217dab5",
   "metadata": {},
   "outputs": [
    {
     "name": "stdout",
     "output_type": "stream",
     "text": [
      "My name is Peter and I am 34\n"
     ]
    }
   ],
   "source": [
    "# Render the template\n",
    "msg = tm.render(per=person)\n",
    "\n",
    "# Print the rendered message\n",
    "print(msg)"
   ]
  },
  {
   "cell_type": "markdown",
   "id": "b68aa080-0e23-46db-b1e2-e869e21e0114",
   "metadata": {},
   "source": [
    "#### Jinja raw data\n",
    "We can use raw, endraw markers to escape Jinja delimiters.\n",
    "\n",
    "In this example, you're using the {% raw %} and {% endraw %} tags in Jinja2. These tags are used to prevent the template engine from rendering any variables or expressions inside them. Instead, the content within these tags is treated as plain text."
   ]
  },
  {
   "cell_type": "code",
   "execution_count": 18,
   "id": "b9f98367-4dd3-42d9-9a6a-94bd0919de60",
   "metadata": {},
   "outputs": [],
   "source": [
    "# Define a template with {% raw %} tags\n",
    "data = '''\n",
    "{% raw %}\n",
    "His name is {{ name }}\n",
    "{% endraw %}\n",
    "'''"
   ]
  },
  {
   "cell_type": "code",
   "execution_count": 19,
   "id": "75b46ee4-e856-46a2-b21c-03fd7fc9afe1",
   "metadata": {},
   "outputs": [],
   "source": [
    "# Create the Jinja2 template\n",
    "tm = Template(data)"
   ]
  },
  {
   "cell_type": "code",
   "execution_count": 20,
   "id": "9c18a373-b177-4ca5-9ae5-3952f49076ce",
   "metadata": {},
   "outputs": [],
   "source": [
    "# Render the template\n",
    "msg = tm.render(name='Peter')"
   ]
  },
  {
   "cell_type": "code",
   "execution_count": 21,
   "id": "d97e9ed6-d225-4526-ae56-07072110f7cb",
   "metadata": {},
   "outputs": [
    {
     "name": "stdout",
     "output_type": "stream",
     "text": [
      "\n",
      "\n",
      "His name is {{ name }}\n",
      "\n"
     ]
    }
   ],
   "source": [
    "# Print the result\n",
    "print(msg)"
   ]
  },
  {
   "cell_type": "markdown",
   "id": "d3028dbd-5ece-43d3-8f07-58ed253ad5ab",
   "metadata": {},
   "source": [
    "#### Alternative Example: Mixed Raw and Rendered Content\n",
    "If you want some content to be dynamic and some to remain as raw text, you can combine raw blocks with normal template syntax:"
   ]
  },
  {
   "cell_type": "code",
   "execution_count": 22,
   "id": "ea0a09f7-9cb0-4fa7-8368-93d046116192",
   "metadata": {},
   "outputs": [],
   "source": [
    "data = '''\n",
    "{% raw %}\n",
    "This is raw content: {{ name }}\n",
    "{% endraw %}\n",
    "This is dynamic content: {{ name }}\n",
    "'''"
   ]
  },
  {
   "cell_type": "markdown",
   "id": "d48ef2ed-39b4-44e4-80a9-c8248fdf366b",
   "metadata": {},
   "source": [
    "#### Conditional Expressions"
   ]
  },
  {
   "cell_type": "code",
   "execution_count": 23,
   "id": "c575f323-56c7-4b28-8294-11db6ed458be",
   "metadata": {},
   "outputs": [
    {
     "name": "stdout",
     "output_type": "stream",
     "text": [
      "the guest is an Adult\n"
     ]
    }
   ],
   "source": [
    "template = Template(\"{{ 'the guest is an Adult' if age >= 18 else 'Minor' }}\")\n",
    "msg = template.render(age=20)\n",
    "print(msg)"
   ]
  },
  {
   "cell_type": "code",
   "execution_count": 24,
   "id": "6d33af75-0c76-4e20-870e-5da6f1488403",
   "metadata": {},
   "outputs": [
    {
     "name": "stdout",
     "output_type": "stream",
     "text": [
      "\n",
      "\n",
      "   Medium Salary: 4500\n",
      "\n"
     ]
    }
   ],
   "source": [
    "template = Template(\"\"\"\n",
    "{% if salary >= 5000 %}\n",
    "   High Salary: {{ salary }}\n",
    "{% elif salary >= 3000 %}\n",
    "   Medium Salary: {{ salary }}\n",
    "{% else %}\n",
    "   Low Salary: {{ salary }}\n",
    "{% endif %}\n",
    "\"\"\")\n",
    "\n",
    "msg = template.render(salary=4500)\n",
    "print(msg)"
   ]
  },
  {
   "cell_type": "code",
   "execution_count": null,
   "id": "f4598831-3409-4f66-9cfb-487091c02b81",
   "metadata": {},
   "outputs": [],
   "source": []
  }
 ],
 "metadata": {
  "kernelspec": {
   "display_name": "Python 3 (ipykernel)",
   "language": "python",
   "name": "python3"
  },
  "language_info": {
   "codemirror_mode": {
    "name": "ipython",
    "version": 3
   },
   "file_extension": ".py",
   "mimetype": "text/x-python",
   "name": "python",
   "nbconvert_exporter": "python",
   "pygments_lexer": "ipython3",
   "version": "3.12.7"
  }
 },
 "nbformat": 4,
 "nbformat_minor": 5
}
