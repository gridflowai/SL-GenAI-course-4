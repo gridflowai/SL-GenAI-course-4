{
 "cells": [
  {
   "cell_type": "markdown",
   "id": "7c13c2d9-ecb2-47e8-9fa8-7e2c8de2d0b5",
   "metadata": {},
   "source": [
    "####  Basic Prompt with f-Strings"
   ]
  },
  {
   "cell_type": "code",
   "execution_count": 2,
   "id": "dd220c6a-05ae-43b5-86b1-41a38baea52b",
   "metadata": {},
   "outputs": [],
   "source": [
    "user_name = \"Alice\"\n",
    "topic     = \"machine learning\""
   ]
  },
  {
   "cell_type": "code",
   "execution_count": 3,
   "id": "831c0dbb-a4aa-4c10-bffb-685a72c90383",
   "metadata": {},
   "outputs": [
    {
     "name": "stdout",
     "output_type": "stream",
     "text": [
      "Hello Alice, I see you're interested in machine learning. How can I assist you today?\n"
     ]
    }
   ],
   "source": [
    "# Using an f-string to create a personalized prompt\n",
    "prompt = f\"Hello {user_name}, I see you're interested in {topic}. How can I assist you today?\"\n",
    "print(prompt)"
   ]
  },
  {
   "cell_type": "markdown",
   "id": "d59c95f8-2b5d-4079-99e3-b15947722b82",
   "metadata": {},
   "source": [
    "#### Conditional Prompt Based on User Input"
   ]
  },
  {
   "cell_type": "code",
   "execution_count": 4,
   "id": "36c405ee-e8e2-4eab-b1b5-799dde88863e",
   "metadata": {},
   "outputs": [],
   "source": [
    "user_name       = \"Alex\"\n",
    "topic           = \"machine learning\"\n",
    "expertise_level = \"intermediate\""
   ]
  },
  {
   "cell_type": "code",
   "execution_count": 5,
   "id": "2b368dfb-4d14-475e-9630-9c9ec57ee46f",
   "metadata": {},
   "outputs": [
    {
     "name": "stdout",
     "output_type": "stream",
     "text": [
      "Hello Alex, as someone with a bit of experience in machine learning, let's dive into more advanced techniques and best practices.\n"
     ]
    }
   ],
   "source": [
    "# Construct a prompt with different messages based on expertise level\n",
    "if expertise_level == \"beginner\":\n",
    "    prompt = f\"Hi {user_name}, since you're new to {topic}, I recommend starting with the basics. Let's go over fundamental concepts first.\"\n",
    "elif expertise_level == \"intermediate\":\n",
    "    prompt = f\"Hello {user_name}, as someone with a bit of experience in {topic}, let's dive into more advanced techniques and best practices.\"\n",
    "elif expertise_level == \"advanced\":\n",
    "    prompt = f\"Hi {user_name}, given your advanced knowledge in {topic}, we can explore cutting-edge research and optimization strategies.\"\n",
    "\n",
    "print(prompt)"
   ]
  },
  {
   "cell_type": "code",
   "execution_count": null,
   "id": "898fb5e3-a1d4-4563-99e1-c200ce255e06",
   "metadata": {},
   "outputs": [],
   "source": []
  }
 ],
 "metadata": {
  "kernelspec": {
   "display_name": "langchain_env",
   "language": "python",
   "name": "langchain_env"
  },
  "language_info": {
   "codemirror_mode": {
    "name": "ipython",
    "version": 3
   },
   "file_extension": ".py",
   "mimetype": "text/x-python",
   "name": "python",
   "nbconvert_exporter": "python",
   "pygments_lexer": "ipython3",
   "version": "3.12.7"
  }
 },
 "nbformat": 4,
 "nbformat_minor": 5
}
