{
 "cells": [
  {
   "cell_type": "markdown",
   "id": "5561d8e3-6057-4834-9000-1a17ede76a1b",
   "metadata": {},
   "source": [
    "#### Chain of Thought (CoT) in RAG Applications\n",
    "- CoT can be leveraged in RAG applications to help the model break down complex queries into simpler sub-steps before generating a final output.\n",
    "  \n",
    "- The model can first retrieve relevant information from external sources (like documents or databases) and then reason step-by-step based on that information.\n",
    "\n",
    "- Use Case: For a question-answering RAG application, you can structure the model to perform step-by-step reasoning by asking the model to reason through multiple steps after retrieving relevant information."
   ]
  },
  {
   "cell_type": "code",
   "execution_count": 1,
   "id": "54e409df-8b93-4b9a-88cd-429504b31493",
   "metadata": {},
   "outputs": [],
   "source": [
    "import openai"
   ]
  },
  {
   "cell_type": "code",
   "execution_count": 2,
   "id": "25956f5e-e37c-413b-9047-3527cc3941d7",
   "metadata": {},
   "outputs": [],
   "source": [
    "client = openai.OpenAI(\n",
    "    # defaults to os.environ.get(\"OPENAI_API_KEY\")\n",
    "    # api_key = api_key\n",
    ")"
   ]
  },
  {
   "cell_type": "code",
   "execution_count": 3,
   "id": "3ae13e18-e786-45e5-99bd-825d0ffd48db",
   "metadata": {},
   "outputs": [],
   "source": [
    "# Chain of Thought Example: Reasoning through steps\n",
    "def chain_of_thought(query, context):\n",
    "\n",
    "# Constructing the chat messages\n",
    "    messages = [\n",
    "        {\"role\": \"system\", \"content\": \"You are a helpful assistant in the field of weather forecasting.\"},\n",
    "        {\"role\": \"user\", \"content\": f\"Let us break down the reasoning for the following question step by step:\\n\\n{query}\\n\\nRelevant context:\\n{context}\\n\\nFirst, summarize the key concepts involved, then explore the different theories before giving a final conclusion.\"}\n",
    "    ]\n",
    "    \n",
    "    response = client.chat.completions.create(\n",
    "        messages = messages,\n",
    "        model    = \"gpt-4o-mini\",\n",
    "    )\n",
    "    \n",
    "    return response.choices[0].message.content"
   ]
  },
  {
   "cell_type": "code",
   "execution_count": 4,
   "id": "2f09961d-5c8e-4f9c-b4e4-f5ce54ce7b8e",
   "metadata": {},
   "outputs": [],
   "source": [
    "# data (weather related facts)\n",
    "context = \"\"\"\n",
    "The temperature today is 28°C, which is considered warm.\n",
    "The forecast predicts a slight increase in temperature tomorrow, reaching 30°C.\n",
    "It has been raining for two days straight, which might bring cooler weather.\n",
    "The humidity level is also high, which can make the temperature feel warmer.\n",
    "\"\"\"\n",
    "\n",
    "query = \"How will the weather change tomorrow?\""
   ]
  },
  {
   "cell_type": "code",
   "execution_count": 5,
   "id": "7f898ead-d5d1-43c8-b125-244e7901f2d2",
   "metadata": {},
   "outputs": [
    {
     "name": "stdout",
     "output_type": "stream",
     "text": [
      "### Key Concepts Involved:\n",
      "\n",
      "1. **Current Temperature**: Today’s temperature is 28°C.\n",
      "2. **Forecasted Temperature**: Tomorrow’s forecast estimates a rise to 30°C.\n",
      "3. **Precipitation Pattern**: It has been raining for two consecutive days.\n",
      "4. **Impact of Rain**: Continuous rain may lead to cooler weather.\n",
      "5. **Humidity Levels**: High humidity is present, which can affect how warm the temperature feels.\n",
      "\n",
      "### Exploring Different Theories:\n",
      "\n",
      "1. **Temperature Increase (Thermal Theory)**:\n",
      "   - The forecast indicates a slight increase in temperature, meaning that by tomorrow, the air is expected to warm up despite the ongoing cloud cover from the rain.\n",
      "   - A rise from 28°C to 30°C suggests that daytime warming may still occur even after consecutive rainy days.\n",
      "\n",
      "2. **Influence of Previous Rain (Precipitation Theory)**:\n",
      "   - Rain can have a cooling effect, particularly if it has been continuous as is the case. The evaporation of water can lead to a drop in temperature.\n",
      "   - However, if the rain brings cloud cover, it can limit heat loss at night and keep nighttime temperatures higher, which might counteract some cooling effects.\n",
      "\n",
      "3. **Humidity's Effect (Humidity Theory)**:\n",
      "   - High humidity can make temperatures feel warmer than they actually are. Humidity affects heat index, which is the perceived temperature.\n",
      "   - This suggests that even if the temperature increases only slightly, it may feel even warmer due to the high moisture content in the air.\n",
      "\n",
      "### Final Conclusion:\n",
      "\n",
      "Considering all factors:\n",
      "\n",
      "- Although the forecast shows an increase to 30°C, the recent rain could lead to brief cooling effects, especially if it continues into tomorrow. However, since the temperature is indeed forecasted to rise, this implies that the sun will likely make an appearance, contributing to the slightly increased temperature.\n",
      "- The humidity will play a significant role in how the temperature feels; thus, although the temperature is rising slightly, the high humidity could make it feel warmer than expected.\n",
      "- Overall, we can conclude that despite the recent rain, tomorrow's weather is expected to be warmer at 30°C, but the high humidity will likely make it feel as though it is even warmer.\n"
     ]
    }
   ],
   "source": [
    "# Run Chain of Thought reasoning\n",
    "result = chain_of_thought(query, context)\n",
    "print(result)"
   ]
  },
  {
   "cell_type": "code",
   "execution_count": 6,
   "id": "033bfb1b-1576-4c04-9a06-2a9d0455455a",
   "metadata": {},
   "outputs": [],
   "source": [
    "# Chain of Thought Example: Reasoning through steps\n",
    "def chain_of_thought(query, context):\n",
    "\n",
    "# Constructing the chat messages\n",
    "    messages = [\n",
    "        {\"role\": \"system\", \"content\": \"You are a helpful assistant in the field of medicine.\"},\n",
    "        {\"role\": \"user\", \"content\": f\"Let's break down the reasoning for the following question step by step:\\n\\n{query}\\n\\nRelevant context:\\n{context}\\n\\nFirst, summarize the possible causes, then explore diagnostic tests or other relevant factors before giving a final conclusion.\"}\n",
    "    ]\n",
    "    \n",
    "    response = client.chat.completions.create(\n",
    "        messages = messages,\n",
    "        model    = \"gpt-4o-mini\",\n",
    "    )\n",
    "    \n",
    "    return response.choices[0].message.content\n"
   ]
  },
  {
   "cell_type": "code",
   "execution_count": 7,
   "id": "b23dbef6-337f-4e03-8a88-4d0da717932a",
   "metadata": {},
   "outputs": [],
   "source": [
    "# Example Data (Patient's symptoms)\n",
    "context = \"\"\"\n",
    "The patient has been experiencing a persistent dry cough for the past three weeks.\n",
    "Other symptoms include mild fever, shortness of breath, and occasional chest tightness.\n",
    "There is a history of seasonal allergies but no known history of asthma or chronic lung disease.\n",
    "The patient is a non-smoker and has not been exposed to any known irritants.\n",
    "\"\"\"\n",
    "\n",
    "query = \"What could be causing a patient's persistent cough?\""
   ]
  },
  {
   "cell_type": "code",
   "execution_count": 8,
   "id": "eafbde15-18f3-40ab-9630-f83f83733979",
   "metadata": {},
   "outputs": [
    {
     "name": "stdout",
     "output_type": "stream",
     "text": [
      "Let's break down the potential causes of the patient's persistent dry cough, considering the relevant context provided.\n",
      "\n",
      "### Possible Causes of Persistent Cough:\n",
      "\n",
      "1. **Upper Respiratory Infection (URI)**:\n",
      "   - Viral infections (e.g., common cold) can cause a dry cough that persists even after other symptoms have resolved.\n",
      "   - Bacterial infections (e.g., bronchitis) may also contribute.\n",
      "\n",
      "2. **Allergic Rhinitis**:\n",
      "   - The patient's history of seasonal allergies could lead to post-nasal drip, which can cause a dry cough.\n",
      "\n",
      "3. **Asthma**:\n",
      "   - While there is no known history of asthma, new-onset asthma or allergic asthma can present with a dry cough, especially if triggered by allergens.\n",
      "\n",
      "4. **Chronic Sinusitis**:\n",
      "   - Inflammation of the sinuses can lead to persistent cough due to drainage into the throat (post-nasal drip).\n",
      "\n",
      "5. **Gastroesophageal Reflux Disease (GERD)**:\n",
      "   - Acid reflux can irritate the throat and airways, leading to a chronic cough.\n",
      "\n",
      "6. **Environmental Irritants**:\n",
      "   - Although the patient is a non-smoker and has no known exposures, it is important to consider possibilities such as pollutants or allergens in the environment.\n",
      "\n",
      "7. **Other Lung Conditions**:\n",
      "   - Conditions such as pneumonia or pulmonary embolism should be considered, especially with symptoms of mild fever and shortness of breath. However, the absence of additional risk factors may make these less likely.\n",
      "\n",
      "### Diagnostic Tests and Relevant Factors:\n",
      "\n",
      "1. **Physical Examination**:\n",
      "   - A thorough examination can help identify signs of respiratory distress, wheezing, or abnormal lung sounds.\n",
      "\n",
      "2. **Chest X-ray**:\n",
      "   - This imaging study can help rule out pneumonia, other lung infections, or significant structural abnormalities.\n",
      "\n",
      "3. **Complete Blood Count (CBC)**:\n",
      "   - To check for signs of infection or inflammation, such as elevated white blood cell count.\n",
      "\n",
      "4. **Allergy Testing**:\n",
      "   - If allergic rhinitis is suspected, testing may help identify specific allergens contributing to symptoms.\n",
      "\n",
      "5. **Pulmonary Function Tests**:\n",
      "   - If asthma or other obstructive airway diseases are suspected, these tests can provide valuable information.\n",
      "\n",
      "6. **Esophageal pH Monitoring**:\n",
      "   - If GERD is suspected, this test can help confirm acid reflux as the source of cough.\n",
      "\n",
      "7. **Sputum Culture**:\n",
      "   - If the cough becomes productive or if there are concerns for infection, analysis of sputum can be beneficial.\n",
      "\n",
      "### Final Conclusion:\n",
      "\n",
      "Considering the patient's symptoms (persistent dry cough, mild fever, shortness of breath, occasional chest tightness, and history of seasonal allergies), it is likely that the cough could be attributed to a combination of upper respiratory infection and allergic rhinitis or possibly asthma. The presence of fever suggests an infectious process may be contributing. \n",
      "\n",
      "The next best steps would be to conduct a thorough physical examination, perform a chest X-ray, and consider obtaining a CBC. If there are signs of allergies or asthma, further allergy testing or pulmonary function tests may guide management. If infectious causes are ruled out and no other conditions are identified, treatment may focus on allergy management and symptomatic relief.\n"
     ]
    }
   ],
   "source": [
    "result = chain_of_thought(query, context)\n",
    "print(result)"
   ]
  },
  {
   "cell_type": "markdown",
   "id": "2ed486ac-0336-4529-8c6d-659ecebd5807",
   "metadata": {},
   "source": [
    "#### To ensure the LLM is considering all possible `causes` in a Chain of Thought reasoning process:"
   ]
  },
  {
   "cell_type": "markdown",
   "id": "512613c5-6250-4adb-ad05-975fe9885600",
   "metadata": {},
   "source": [
    "#### 1. Define Expected Causes and Reasoning Pathways\n",
    "- Pre-define a set of known causes or hypotheses for the query at hand (e.g., for a medical diagnosis, there are standard differential diagnoses). This helps set a baseline of what should be considered in the model's response.\n",
    "- Create a comprehensive list of all potential causes based on domain knowledge, research papers, textbooks, or expert opinions. This list will serve as a reference to compare the LLM's response.\n",
    "\n",
    "**Example**: If you are asking a question about **chronic cough**, your expected causes might include:\n",
    "- **Infections** (e.g., viral, bacterial, tuberculosis)\n",
    "- **Asthma**\n",
    "- **Gastroesophageal reflux disease (GERD)**\n",
    "- **Post-nasal drip**\n",
    "- **Chronic obstructive pulmonary disease (COPD)**\n",
    "- **Lung cancer**\n",
    "\n",
    "#### 2. Comprehensive CoT Prompting\n",
    "Ensure the prompt explicitly asks the model to list all potential causes, systematically reason through them, and eliminate or support each cause based on the symptoms or context provided.\n",
    "\n",
    "```python\n",
    "\"Given the following symptoms: chronic cough, low-grade fever, and fatigue, please list all potential causes of these symptoms. For each cause, explain why it could or could not be the most likely reason. Then, provide a ranking of these causes from most likely to least likely.\"\n",
    "\n"
   ]
  },
  {
   "cell_type": "markdown",
   "id": "ce50bd75-8055-4b86-a6c7-a08d7346dff3",
   "metadata": {},
   "source": [
    "#### 3. Manual Evaluation: Compare Responses to Known Causes\n",
    "- **Verify the model’s response** by comparing the causes it lists with your pre-defined set of potential reasons. This comparison allows you to check if the model has missed any critical causes.\n",
    "- **Check the reasoning quality**: After listing the causes, review the model’s explanation for each cause. Does it explain the reasoning process in a clear and logical way? Is there a chain of reasoning that supports the choice of each cause, or does the model seem to jump to conclusions?\n",
    "\n",
    "**Manual Evaluation Criteria**:\n",
    "- **Completeness**: Did the model consider the major categories of causes? For instance, did it include **infectious, chronic, environmental, and lifestyle factors** for a medical diagnosis?\n",
    "- **Relevance**: Are the causes listed logically related to the symptoms or context provided?\n",
    "- **Elimination of causes**: Did the model eliminate unlikely causes based on the reasoning (e.g., ruling out a certain cause due to lack of supporting symptoms or medical history)?\n",
    "\n",
    "#### 4. Use of Follow-up Questions\n",
    "After receiving the initial response, you can use **follow-up questions** to probe deeper into the reasoning process and ensure all possibilities were considered:\n",
    "\n",
    "**Follow-up Examples**:\n",
    "- \"What about less common causes like **X** or **Y**? Could they also explain the symptoms?\"\n",
    "- \"Are there any other **environmental** or **lifestyle factors** that could contribute to these symptoms?\"\n",
    "- \"Have you considered rare conditions or conditions that mimic these symptoms?\"\n",
    "\n",
    "If the model fails to consider or address these follow-up queries adequately, it might indicate that it hasn't covered all possible causes.\n",
    "\n",
    "#### 5. Check for Diversity in Reasoning\n",
    "Evaluate whether the model is offering a **diverse range of reasons** or merely focusing on a few common causes. For example, a model that only focuses on common viral infections without considering autoimmune conditions, environmental triggers, or rare diseases might indicate incomplete reasoning.\n",
    "\n",
    "You can check for diversity by introducing **alternative hypotheses** in your prompt:\n"
   ]
  },
  {
   "cell_type": "markdown",
   "id": "81519d09-794b-4ad1-be17-556002f64de6",
   "metadata": {},
   "source": [
    "#### 6. Use Multiple LLMs or Expert Validation\n",
    "- **Cross-validation with multiple models**: If you're unsure whether the LLM has considered all possible causes, you can run the query through multiple instances or different models (e.g., GPT-4 and GPT-3) to compare responses and check for consistency.\n",
    "- **Consult domain experts**: In specialized fields like medicine, you can compare the model's responses to expert opinions or existing literature. Expert feedback can confirm whether the model has covered all major causes or missed important ones.\n",
    "\n",
    "#### 7. Test the Model with Edge Cases\n",
    "Test the model's reasoning by **deliberately introducing edge cases** or less typical scenarios:\n",
    "- **Uncommon causes**: For example, if you have a medical symptom, ask whether there are any rare conditions that could explain it.\n",
    "- **Overlooked possibilities**: Check if the model recognizes environmental, lifestyle, or psychological factors that might influence the condition.\n",
    "  \n",
    "If the model fails to mention these less common causes, you might need to adjust the prompt to guide it toward considering a broader range of possibilities.\n",
    "\n",
    "#### 8. Scoring or Ranking Responses\n",
    "Some advanced evaluation can involve **scoring the model’s responses** based on completeness and accuracy. For example, you can use a scoring system that assigns points for:\n",
    "- **Number of causes mentioned** (e.g., did it cover a broad range or focus only on one or two obvious causes?).\n",
    "- **Correctness of reasoning** (e.g., did the model logically eliminate improbable causes based on symptoms?).\n",
    "- **Depth of explanation** (e.g., did the model provide a detailed rationale for each cause?).\n"
   ]
  },
  {
   "cell_type": "code",
   "execution_count": null,
   "id": "5337eac7-c23f-4af6-8769-f816c6465590",
   "metadata": {},
   "outputs": [],
   "source": []
  }
 ],
 "metadata": {
  "kernelspec": {
   "display_name": "Python 3 (ipykernel)",
   "language": "python",
   "name": "python3"
  },
  "language_info": {
   "codemirror_mode": {
    "name": "ipython",
    "version": 3
   },
   "file_extension": ".py",
   "mimetype": "text/x-python",
   "name": "python",
   "nbconvert_exporter": "python",
   "pygments_lexer": "ipython3",
   "version": "3.12.7"
  }
 },
 "nbformat": 4,
 "nbformat_minor": 5
}
