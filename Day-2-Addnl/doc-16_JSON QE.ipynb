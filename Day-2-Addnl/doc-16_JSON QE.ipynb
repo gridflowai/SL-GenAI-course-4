{
 "cells": [
  {
   "cell_type": "code",
   "execution_count": 1,
   "id": "b4245bc1-20b2-4a4f-aafe-80e1fb8b8b17",
   "metadata": {},
   "outputs": [],
   "source": [
    "import os\n",
    "import openai\n",
    "from IPython.display import Markdown, display"
   ]
  },
  {
   "cell_type": "code",
   "execution_count": 2,
   "id": "587e6bcd-0a23-43c5-b765-07d87d658a11",
   "metadata": {},
   "outputs": [],
   "source": [
    "# some sample data\n",
    "json_value = {\n",
    "    \"blogPosts\": [\n",
    "        {\n",
    "            \"id\": 1,\n",
    "            \"title\": \"First blog post\",\n",
    "            \"content\": \"This is my first blog post\",\n",
    "        },\n",
    "        {\n",
    "            \"id\": 2,\n",
    "            \"title\": \"Second blog post\",\n",
    "            \"content\": \"This is my second blog post\",\n",
    "        },\n",
    "    ],\n",
    "    \"comments\": [\n",
    "        {\n",
    "            \"id\": 1,\n",
    "            \"content\": \"Nice post!\",\n",
    "            \"username\": \"jerry\",\n",
    "            \"blogPostId\": 1,\n",
    "        },\n",
    "        {\n",
    "            \"id\": 2,\n",
    "            \"content\": \"Interesting thoughts\",\n",
    "            \"username\": \"simon\",\n",
    "            \"blogPostId\": 2,\n",
    "        },\n",
    "        {\n",
    "            \"id\": 3,\n",
    "            \"content\": \"Loved reading this!\",\n",
    "            \"username\": \"simon\",\n",
    "            \"blogPostId\": 2,\n",
    "        },\n",
    "    ],\n",
    "}"
   ]
  },
  {
   "cell_type": "code",
   "execution_count": 3,
   "id": "5a764a03-0b47-4cb7-b506-acfb57985592",
   "metadata": {},
   "outputs": [],
   "source": [
    "# JSON Schema object that the above JSON value conforms to\n",
    "json_schema = {\n",
    "    \"$schema\": \"http://json-schema.org/draft-07/schema#\",\n",
    "    \"description\": \"Schema for a very simple blog post app\",\n",
    "    \"type\": \"object\",\n",
    "    \"properties\": {\n",
    "        \"blogPosts\": {\n",
    "            \"description\": \"List of blog posts\",\n",
    "            \"type\": \"array\",\n",
    "            \"items\": {\n",
    "                \"type\": \"object\",\n",
    "                \"properties\": {\n",
    "                    \"id\": {\n",
    "                        \"description\": \"Unique identifier for the blog post\",\n",
    "                        \"type\": \"integer\",\n",
    "                    },\n",
    "                    \"title\": {\n",
    "                        \"description\": \"Title of the blog post\",\n",
    "                        \"type\": \"string\",\n",
    "                    },\n",
    "                    \"content\": {\n",
    "                        \"description\": \"Content of the blog post\",\n",
    "                        \"type\": \"string\",\n",
    "                    },\n",
    "                },\n",
    "                \"required\": [\"id\", \"title\", \"content\"],\n",
    "            },\n",
    "        },\n",
    "        \"comments\": {\n",
    "            \"description\": \"List of comments on blog posts\",\n",
    "            \"type\": \"array\",\n",
    "            \"items\": {\n",
    "                \"type\": \"object\",\n",
    "                \"properties\": {\n",
    "                    \"id\": {\n",
    "                        \"description\": \"Unique identifier for the comment\",\n",
    "                        \"type\": \"integer\",\n",
    "                    },\n",
    "                    \"content\": {\n",
    "                        \"description\": \"Content of the comment\",\n",
    "                        \"type\": \"string\",\n",
    "                    },\n",
    "                    \"username\": {\n",
    "                        \"description\": (\n",
    "                            \"Username of the commenter (lowercased)\"\n",
    "                        ),\n",
    "                        \"type\": \"string\",\n",
    "                    },\n",
    "                    \"blogPostId\": {\n",
    "                        \"description\": (\n",
    "                            \"Identifier for the blog post to which the comment\"\n",
    "                            \" belongs\"\n",
    "                        ),\n",
    "                        \"type\": \"integer\",\n",
    "                    },\n",
    "                },\n",
    "                \"required\": [\"id\", \"content\", \"username\", \"blogPostId\"],\n",
    "            },\n",
    "        },\n",
    "    },\n",
    "    \"required\": [\"blogPosts\", \"comments\"],\n",
    "}"
   ]
  },
  {
   "cell_type": "code",
   "execution_count": 4,
   "id": "00131776-cdcf-4b12-ba27-af26b822cc04",
   "metadata": {},
   "outputs": [],
   "source": [
    "#pip install jsonpath-ng"
   ]
  },
  {
   "cell_type": "code",
   "execution_count": 5,
   "id": "6d075107-1e75-4048-81e5-424d71d21220",
   "metadata": {},
   "outputs": [],
   "source": [
    "#pip install jsonpath-ng.ext"
   ]
  },
  {
   "cell_type": "code",
   "execution_count": 6,
   "id": "cd45ce25-cbf4-4807-9346-698dc6b0fb18",
   "metadata": {},
   "outputs": [],
   "source": [
    "from llama_index.llms.openai import OpenAI\n",
    "from llama_index.core.indices.struct_store import JSONQueryEngine"
   ]
  },
  {
   "cell_type": "code",
   "execution_count": 7,
   "id": "bdaac3b0-2fa9-4f29-bb79-1b210f386668",
   "metadata": {},
   "outputs": [],
   "source": [
    "llm = OpenAI(model=\"gpt-4o-mini\")"
   ]
  },
  {
   "cell_type": "code",
   "execution_count": 8,
   "id": "a2fa928c-9782-45d9-bee7-cfb363d659f4",
   "metadata": {},
   "outputs": [],
   "source": [
    "nl_query_engine = JSONQueryEngine(\n",
    "    json_value  = json_value,     # the actual JSON data (the object or dataset) you are querying\n",
    "    json_schema = json_schema,    # helps the engine understand the organization and types of data contained in json_value\n",
    "    llm         = llm,\n",
    "    synthesize_response = True    # default, format the response into a more natural, human-readable form\n",
    ")"
   ]
  },
  {
   "cell_type": "code",
   "execution_count": 9,
   "id": "c763632c-3d45-4b13-922e-f0989eef51bf",
   "metadata": {},
   "outputs": [],
   "source": [
    "raw_query_engine = JSONQueryEngine(\n",
    "    json_value   = json_value,\n",
    "    json_schema  = json_schema,\n",
    "    llm          = llm,\n",
    "    synthesize_response=False,\n",
    ")"
   ]
  },
  {
   "cell_type": "code",
   "execution_count": 10,
   "id": "531434c2-d7dc-4d93-89a0-d48a70a22375",
   "metadata": {},
   "outputs": [],
   "source": [
    "nl_response = nl_query_engine.query(\n",
    "    \"What comments has Jerry been writing?\",\n",
    ")\n",
    "\n",
    "raw_response = raw_query_engine.query(\n",
    "    \"What comments has Jerry been writing?\",\n",
    ")"
   ]
  },
  {
   "cell_type": "code",
   "execution_count": 11,
   "id": "651dbe58-405a-4372-953e-ca97e64e7648",
   "metadata": {},
   "outputs": [
    {
     "data": {
      "text/markdown": [
       "Natural language ResponseJerry has written the following comment: \"Nice post!\" on blog post with ID 1."
      ],
      "text/plain": [
       "<IPython.core.display.Markdown object>"
      ]
     },
     "metadata": {},
     "output_type": "display_data"
    },
    {
     "data": {
      "text/markdown": [
       "Raw JSON Response{\"username == 'jerry')]\": \"{'id': 1, 'content': 'Nice post!', 'username': 'jerry', 'blogPostId': 1}\"}"
      ],
      "text/plain": [
       "<IPython.core.display.Markdown object>"
      ]
     },
     "metadata": {},
     "output_type": "display_data"
    }
   ],
   "source": [
    "display(Markdown(f\"Natural language Response{nl_response}\"))\n",
    "display(Markdown(f\"Raw JSON Response{raw_response}\"))"
   ]
  },
  {
   "cell_type": "code",
   "execution_count": 13,
   "id": "f9b80d05-55a4-4e3e-b30f-b59931067c7b",
   "metadata": {},
   "outputs": [
    {
     "data": {
      "text/markdown": [
       "Natural language ResponseHere are the comments on blog post #2:\n",
       "\n",
       "1. **Username:** simon\n",
       "   - **Content:** Interesting thoughts\n",
       "\n",
       "2. **Username:** simon\n",
       "   - **Content:** Loved reading this!"
      ],
      "text/plain": [
       "<IPython.core.display.Markdown object>"
      ]
     },
     "metadata": {},
     "output_type": "display_data"
    }
   ],
   "source": [
    "nl_response = nl_query_engine.query(\n",
    "    \"List Comments on blog Post # 2\",\n",
    ")\n",
    "\n",
    "display(Markdown(f\"Natural language Response{nl_response}\"))"
   ]
  },
  {
   "cell_type": "code",
   "execution_count": null,
   "id": "5caf328c-83c9-4e14-8d2c-1c62873ddc77",
   "metadata": {},
   "outputs": [],
   "source": []
  }
 ],
 "metadata": {
  "kernelspec": {
   "display_name": "llama_index_env",
   "language": "python",
   "name": "llama_index_env"
  },
  "language_info": {
   "codemirror_mode": {
    "name": "ipython",
    "version": 3
   },
   "file_extension": ".py",
   "mimetype": "text/x-python",
   "name": "python",
   "nbconvert_exporter": "python",
   "pygments_lexer": "ipython3",
   "version": "3.12.7"
  }
 },
 "nbformat": 4,
 "nbformat_minor": 5
}
