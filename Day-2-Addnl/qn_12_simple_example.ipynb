{
 "cells": [
  {
   "cell_type": "markdown",
   "id": "cfc72c01-120e-4cf7-81c7-4b13f2ad1e06",
   "metadata": {},
   "source": [
    "------------------------------\n",
    "#### Quantization\n",
    "\n",
    "- In the context of machine learning, quantization is often used to reduce the precision of numerical values to lower bit-width representations, leading to memory and computational efficiency.\n",
    "\n",
    "------------------------"
   ]
  },
  {
   "cell_type": "code",
   "execution_count": 1,
   "id": "2d9ba745-da95-4f3e-910b-0dcc5fd4b9c9",
   "metadata": {
    "tags": []
   },
   "outputs": [],
   "source": [
    "import numpy as np"
   ]
  },
  {
   "cell_type": "code",
   "execution_count": 2,
   "id": "9a5f5525-9cd0-4ab1-8741-ead1ab5a9c02",
   "metadata": {
    "tags": []
   },
   "outputs": [],
   "source": [
    "def quantize(values, num_bits):\n",
    "    \"\"\"\n",
    "    Quantize a list of values to a specified number of bits.\n",
    "    \n",
    "    Parameters:\n",
    "    - values: List or array of numerical values to be quantized.\n",
    "    - num_bits: Number of bits for quantization.\n",
    "    \n",
    "    Returns:\n",
    "    - quantized_values: Quantized values.\n",
    "    \"\"\"\n",
    "    # Calculate the minimum and maximum values in the input\n",
    "    min_val, max_val = min(values), max(values)\n",
    "    \n",
    "    # Calculate the range of values\n",
    "    value_range = max_val - min_val\n",
    "    \n",
    "    # Calculate the step size for quantization\n",
    "    step_size = value_range / (2 ** num_bits - 1)\n",
    "    \n",
    "    # Quantize the values\n",
    "    quantized_values = np.round((values - min_val) / step_size) * step_size + min_val\n",
    "    \n",
    "    return quantized_values\n"
   ]
  },
  {
   "cell_type": "code",
   "execution_count": 3,
   "id": "b751ab00-515b-4460-8008-19c3af4eb59c",
   "metadata": {
    "tags": []
   },
   "outputs": [],
   "source": [
    "# Example usage\n",
    "original_values = np.array([1.5, 2.3, 4.8, 6.2, 7.9])\n",
    "num_bits = 3"
   ]
  },
  {
   "cell_type": "code",
   "execution_count": 4,
   "id": "ae02c5a3-782d-4507-8480-6c7815c42ebb",
   "metadata": {
    "tags": []
   },
   "outputs": [],
   "source": [
    "quantized_values = quantize(original_values, num_bits)"
   ]
  },
  {
   "cell_type": "code",
   "execution_count": 5,
   "id": "142c179d-b3a6-4349-b83d-ffd9517b6d85",
   "metadata": {
    "tags": []
   },
   "outputs": [
    {
     "name": "stdout",
     "output_type": "stream",
     "text": [
      "Original Values: [1.5 2.3 4.8 6.2 7.9]\n",
      "Quantized Values: [1.5        2.41428571 5.15714286 6.07142857 7.9       ]\n"
     ]
    }
   ],
   "source": [
    "# Print original and quantized values\n",
    "print(\"Original Values:\", original_values)\n",
    "print(\"Quantized Values:\", quantized_values)"
   ]
  },
  {
   "cell_type": "code",
   "execution_count": null,
   "id": "06c58fe7-225e-4917-b0aa-5f143d59eff7",
   "metadata": {},
   "outputs": [],
   "source": []
  }
 ],
 "metadata": {
  "kernelspec": {
   "display_name": "Python 3 (ipykernel)",
   "language": "python",
   "name": "python3"
  },
  "language_info": {
   "codemirror_mode": {
    "name": "ipython",
    "version": 3
   },
   "file_extension": ".py",
   "mimetype": "text/x-python",
   "name": "python",
   "nbconvert_exporter": "python",
   "pygments_lexer": "ipython3",
   "version": "3.12.7"
  }
 },
 "nbformat": 4,
 "nbformat_minor": 5
}
