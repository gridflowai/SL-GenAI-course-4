{
 "cells": [
  {
   "cell_type": "markdown",
   "id": "a6b72b35-3750-4329-819b-78d0203d86f7",
   "metadata": {},
   "source": [
    "-------------------------\n",
    "#### low-rank decomposition of a matrix\n",
    "------------------------"
   ]
  },
  {
   "cell_type": "code",
   "execution_count": 1,
   "id": "11388d19-8208-4597-a7da-1928a3081a4c",
   "metadata": {
    "tags": []
   },
   "outputs": [],
   "source": [
    "import numpy as np"
   ]
  },
  {
   "cell_type": "code",
   "execution_count": 2,
   "id": "5887fe1e-f39c-4382-904c-aa56cb8b469b",
   "metadata": {
    "tags": []
   },
   "outputs": [],
   "source": [
    "# Create a matrix (replace this with your actual matrix)\n",
    "original_matrix = np.array([[1, 2, 3],\n",
    "                            [4, 5, 6],\n",
    "                            [7, 8, 9]])"
   ]
  },
  {
   "cell_type": "code",
   "execution_count": 3,
   "id": "d0dfe503-ef49-4351-977b-8e7c7838c83f",
   "metadata": {
    "tags": []
   },
   "outputs": [],
   "source": [
    "# Perform Singular Value Decomposition (SVD)\n",
    "U, S, Vt = np.linalg.svd(original_matrix)"
   ]
  },
  {
   "cell_type": "code",
   "execution_count": 4,
   "id": "340e583c-948c-47fd-bee1-da68a1bce524",
   "metadata": {
    "tags": []
   },
   "outputs": [],
   "source": [
    "# Set the desired rank (replace this with your desired rank)\n",
    "desired_rank = 2"
   ]
  },
  {
   "cell_type": "code",
   "execution_count": 5,
   "id": "e5dbf0b9-3ff8-4ed3-993e-c876eabd7f86",
   "metadata": {
    "tags": []
   },
   "outputs": [],
   "source": [
    "# Truncate the matrices to achieve the desired rank\n",
    "U_truncated = U[:, :desired_rank]\n",
    "S_truncated = np.diag(S[:desired_rank])\n",
    "Vt_truncated = Vt[:desired_rank, :]"
   ]
  },
  {
   "cell_type": "code",
   "execution_count": 6,
   "id": "e7a333d6-3557-460f-aa4c-79dd240379f6",
   "metadata": {
    "tags": []
   },
   "outputs": [],
   "source": [
    "# Reconstruct the low-rank decomposed matrix\n",
    "low_rank_matrix = U_truncated @ S_truncated @ Vt_truncated"
   ]
  },
  {
   "cell_type": "code",
   "execution_count": 7,
   "id": "5ad4097d-3e1a-4927-8cd1-21c55b19db29",
   "metadata": {
    "tags": []
   },
   "outputs": [
    {
     "name": "stdout",
     "output_type": "stream",
     "text": [
      "Original Matrix:\n",
      "[[1 2 3]\n",
      " [4 5 6]\n",
      " [7 8 9]]\n",
      "\n",
      "Low-Rank Decomposed Matrix:\n",
      "[[1. 2. 3.]\n",
      " [4. 5. 6.]\n",
      " [7. 8. 9.]]\n"
     ]
    }
   ],
   "source": [
    "# Print the original and low-rank decomposed matrices\n",
    "print(\"Original Matrix:\")\n",
    "print(original_matrix)\n",
    "print(\"\\nLow-Rank Decomposed Matrix:\")\n",
    "print(low_rank_matrix)"
   ]
  },
  {
   "cell_type": "code",
   "execution_count": null,
   "id": "754b0f31-b4aa-45a8-9e92-5ae32d7bdd24",
   "metadata": {},
   "outputs": [],
   "source": []
  }
 ],
 "metadata": {
  "kernelspec": {
   "display_name": "Python 3 (ipykernel)",
   "language": "python",
   "name": "python3"
  },
  "language_info": {
   "codemirror_mode": {
    "name": "ipython",
    "version": 3
   },
   "file_extension": ".py",
   "mimetype": "text/x-python",
   "name": "python",
   "nbconvert_exporter": "python",
   "pygments_lexer": "ipython3",
   "version": "3.9.13"
  }
 },
 "nbformat": 4,
 "nbformat_minor": 5
}
